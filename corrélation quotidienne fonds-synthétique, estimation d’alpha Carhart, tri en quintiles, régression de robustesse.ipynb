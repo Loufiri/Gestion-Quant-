{
 "cells": [
  {
   "cell_type": "code",
   "execution_count": null,
   "metadata": {},
   "outputs": [],
   "source": [
    "# pip install pandas numpy statsmodels\n",
    "import pandas as pd\n",
    "import numpy as np\n",
    "import statsmodels.api as sm\n",
    "import statsmodels.formula.api as smf"
   ]
  },
  {
   "cell_type": "code",
   "execution_count": null,
   "metadata": {},
   "outputs": [],
   "source": [
    "# Exemple : lecture depuis CSV\n",
    "fund_data = pd.read_csv('fund_data.csv', parse_dates=['date'])\n",
    "syn_data = pd.read_csv('syn_data.csv', parse_dates=['date'])\n",
    "factor_data = pd.read_csv('factor_data.csv', parse_dates=['date'])\n",
    "\n",
    "# Merge fund_data, syn_data et factor_data\n",
    "merged_df = (\n",
    "    fund_data\n",
    "    .merge(syn_data, on=['date','fund_id'], how='left')\n",
    "    .merge(factor_data, on='date', how='left')\n",
    ")\n",
    "\n",
    "# Si fund_return n’est pas déjà un \"excess return\", on fait :\n",
    "merged_df['excess_fund'] = merged_df['fund_return'] - merged_df['Rf']\n",
    "merged_df['excess_syn'] = merged_df['syn_return'] - merged_df['Rf']\n",
    "\n",
    "## Vérifier que MKT_RF est déjà (Rm - Rf). Sinon, il faut faire la conversion ! "
   ]
  },
  {
   "cell_type": "code",
   "execution_count": null,
   "metadata": {},
   "outputs": [],
   "source": [
    "merged_df['year_quarter'] = merged_df['date'].dt.year.astype(str) + '_Q' + merged_df['date'].dt.quarter.astype(str)"
   ]
  },
  {
   "cell_type": "code",
   "execution_count": null,
   "metadata": {},
   "outputs": [],
   "source": [
    "def correlation_fund_syn(group):\n",
    "    corr = group['excess_fund'].corr(group['excess_syn'])\n",
    "    return pd.Series({'corr_fs': corr})\n",
    "\n",
    "corr_data = (\n",
    "    merged_df\n",
    "    .groupby(['fund_id', 'year_quarter'])\n",
    "    .apply(correlation_fund_syn)\n",
    "    .reset_index()\n",
    ")"
   ]
  },
  {
   "cell_type": "code",
   "execution_count": null,
   "metadata": {},
   "outputs": [],
   "source": [
    "def fit_carhart_alpha(group):\n",
    "    # On fait une régression OLS sur excess_fund \n",
    "    X_fund = group[['MKT_RF','SMB','HML','WML']]\n",
    "    X_fund = sm.add_constant(X_fund)\n",
    "    y_fund = group['excess_fund']\n",
    "    \n",
    "    # Fit\n",
    "    model_fund = sm.OLS(y_fund, X_fund, missing='drop').fit()\n",
    "    alpha_fund = model_fund.params['const']\n",
    "    \n",
    "    # Idem pour le synthetic\n",
    "    X_syn = group[['MKT_RF','SMB','HML','WML']]\n",
    "    X_syn = sm.add_constant(X_syn)\n",
    "    y_syn = group['excess_syn']\n",
    "    model_syn = sm.OLS(y_syn, X_syn, missing='drop').fit()\n",
    "    alpha_syn = model_syn.params['const']\n",
    "    \n",
    "    # Annualisation (journalière)\n",
    "    alpha_fund_annual = alpha_fund * 252\n",
    "    alpha_syn_annual  = alpha_syn  * 252\n",
    "    \n",
    "    alpha_gap = alpha_fund_annual - alpha_syn_annual\n",
    "    \n",
    "    return pd.Series({\n",
    "        'alpha_fund': alpha_fund_annual,\n",
    "        'alpha_syn':  alpha_syn_annual,\n",
    "        'alpha_gap':  alpha_gap\n",
    "    })\n",
    "\n",
    "alpha_data = (\n",
    "    merged_df\n",
    "    .groupby(['fund_id','year_quarter'])\n",
    "    .apply(fit_carhart_alpha)\n",
    "    .reset_index()\n",
    ")"
   ]
  },
  {
   "cell_type": "code",
   "execution_count": null,
   "metadata": {},
   "outputs": [],
   "source": [
    "full_quarter_data = corr_data.merge(alpha_data, on=['fund_id','year_quarter'], how='inner')"
   ]
  },
  {
   "cell_type": "code",
   "execution_count": null,
   "metadata": {},
   "outputs": [],
   "source": [
    "full_quarter_data['corr_quintile'] = pd.qcut(full_quarter_data['corr_fs'], 5, labels=False) + 1\n",
    "# labels=False => la sortie est 0..4, donc on ajoute +1 => quintiles 1..5\n",
    "\n",
    "stats_quintiles = (\n",
    "    full_quarter_data\n",
    "    .groupby('corr_quintile')\n",
    "    .agg(mean_alpha_gap=('alpha_gap','mean'),\n",
    "         count=('alpha_gap','size'))\n",
    "    .reset_index()\n",
    ")\n",
    "\n",
    "# Différence High (Q5) - Low (Q1)\n",
    "alpha_gap_highlow = (\n",
    "    stats_quintiles.loc[stats_quintiles['corr_quintile'] == 5, 'mean_alpha_gap'].values[0]\n",
    "    - stats_quintiles.loc[stats_quintiles['corr_quintile'] == 1, 'mean_alpha_gap'].values[0]\n",
    ")\n",
    "print(\"High-Low difference (alpha_gap) =\", alpha_gap_highlow)\n",
    "print(stats_quintiles)\n"
   ]
  },
  {
   "cell_type": "code",
   "execution_count": null,
   "metadata": {},
   "outputs": [],
   "source": [
    "def assign_quintiles(df):\n",
    "    df = df.copy()\n",
    "    df['corr_quintile'] = pd.qcut(df['corr_fs'], 5, labels=False) + 1\n",
    "    return df\n",
    "\n",
    "full_quarter_data_byQ = (\n",
    "    full_quarter_data\n",
    "    .groupby('year_quarter')\n",
    "    .apply(assign_quintiles)\n",
    "    .reset_index(drop=True)\n",
    ")\n",
    "\n",
    "stats_quintiles_byQ = (\n",
    "    full_quarter_data_byQ\n",
    "    .groupby(['year_quarter','corr_quintile'])\n",
    "    .agg(mean_alpha_gap=('alpha_gap','mean'),\n",
    "         count=('alpha_gap','size'))\n",
    "    .reset_index()\n",
    ")\n",
    "\n",
    "# On peut ensuite calculer High–Low par trimestre et faire la moyenne :\n",
    "def high_low_by_quarter(df):\n",
    "    # df a un group de la forme (year_quarter = X)\n",
    "    # on récupère la moyenne en Q5 et Q1\n",
    "    q1_gap = df.loc[df['corr_quintile'] == 1, 'mean_alpha_gap'].values\n",
    "    q5_gap = df.loc[df['corr_quintile'] == 5, 'mean_alpha_gap'].values\n",
    "    if len(q1_gap) == 1 and len(q5_gap) == 1:\n",
    "        return q5_gap[0] - q1_gap[0]\n",
    "    else:\n",
    "        return np.nan\n",
    "\n",
    "high_low_perQ = (\n",
    "    stats_quintiles_byQ\n",
    "    .groupby('year_quarter')\n",
    "    .apply(high_low_by_quarter)\n",
    "    .reset_index(name='HL_diff')\n",
    ")\n",
    "\n",
    "print(high_low_perQ.head(10))\n",
    "print(\"Moyenne High–Low sur tous les trimestres =\", high_low_perQ['HL_diff'].mean())"
   ]
  },
  {
   "cell_type": "code",
   "execution_count": null,
   "metadata": {},
   "outputs": [],
   "source": [
    "fund_chars = pd.read_csv('fund_chars.csv')\n",
    "reg_df = full_quarter_data.merge(fund_chars, on=['fund_id','year_quarter'], how='left')\n",
    "\n",
    "# Exemple : on veut expliquer alpha_fund en fonction de corr_fs + controls\n",
    "# On fait une regression OLS en formula syntax\n",
    "model_ols = smf.ols(\n",
    "    formula=\"alpha_fund ~ corr_fs + np.log(size) + np.log(age) + np.log(manager_tenure) + np.log(turnover) + vol_mkt\",\n",
    "    data=reg_df\n",
    ").fit(cov_type='HC3')  # robust aux hétéroscédasticités\n",
    "\n",
    "print(model_ols.summary())"
   ]
  },
  {
   "cell_type": "code",
   "execution_count": null,
   "metadata": {},
   "outputs": [],
   "source": [
    "model_gap = smf.ols(\n",
    "    formula=\"alpha_gap ~ corr_fs + np.log(size) + np.log(age) + np.log(manager_tenure) + np.log(turnover) + vol_mkt\",\n",
    "    data=reg_df\n",
    ").fit(cov_type='HC3')\n",
    "\n",
    "print(model_gap.summary())"
   ]
  }
 ],
 "metadata": {
  "kernelspec": {
   "display_name": "Python 3",
   "language": "python",
   "name": "python3"
  },
  "language_info": {
   "name": "python",
   "version": "3.12.6"
  }
 },
 "nbformat": 4,
 "nbformat_minor": 2
}
